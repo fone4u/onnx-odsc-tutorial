{
 "cells": [
  {
   "cell_type": "markdown",
   "metadata": {},
   "source": [
    "# Converting a Scikit model into ONNX format"
   ]
  },
  {
   "cell_type": "markdown",
   "metadata": {},
   "source": [
    "We'll start by training a scikit-learn model and demonstrate how we can convert this into ONNX format. In this example, we are using the 20 newsgroup dataset to train an MLP classifier, after being featurised by using CountVectorizer()."
   ]
  },
  {
   "cell_type": "markdown",
   "metadata": {},
   "source": [
    "### 20 newsgroup dataset\n",
    "We use the 20 newsgroups dataset in this experiment. It comprises around 18000 newsgroups posts on 20 topics split in two subsets: one for training and the other one for testing. Let's pick 2 categories out of 20 to simplify our experiment and reduce the overall runtime."
   ]
  },
  {
   "cell_type": "code",
   "execution_count": 10,
   "metadata": {},
   "outputs": [],
   "source": [
    "categories = [\n",
    " 'alt.atheism',\n",
    " 'comp.graphics',\n",
    " 'comp.os.ms-windows.misc',\n",
    " 'comp.sys.ibm.pc.hardware',\n",
    " 'comp.sys.mac.hardware',\n",
    " 'comp.windows.x',\n",
    " 'misc.forsale',\n",
    " 'rec.autos',\n",
    " 'rec.motorcycles',\n",
    " 'rec.sport.baseball',\n",
    " 'rec.sport.hockey',\n",
    " 'sci.crypt',\n",
    " 'sci.electronics',\n",
    " 'sci.med',\n",
    " 'sci.space',\n",
    " 'soc.religion.christian',\n",
    " 'talk.politics.guns',\n",
    " 'talk.politics.mideast',\n",
    " 'talk.politics.misc',\n",
    " 'talk.religion.misc'\n",
    "]"
   ]
  },
  {
   "cell_type": "markdown",
   "metadata": {},
   "source": [
    "### Example post for label: 'sci.space'\n",
    "\n",
    "'From: gsh7w@fermi.clas.Virginia.EDU (Greg Hennessy)\\nSubject: Re: Why not concentrate on child molesters?\\nOrganization: University of Virginia\\nLines: 17\\n\\nIn article <15218@optilink.COM> cramer@optilink.COM (Clayton Cramer) writes:\\n#Yet, when a law was proposed for Virginia that extended this \\n#philosophy to cigarette smokers (so that people who smoked away\\n#from the work couldn\\'t be discriminated against by employers),\\n#the liberal Gov. Wilder vetoed it.  Which shows that liberals don\\'t\\n#give a damn about \"best person for the job,\" it\\'s just a power\\n#play.\\n\\nOf course Clayton ignores the fact that employers pay health\\ninsurance, and insurance for smokers is more expensive than for\\nnon-smokers. \\n\\n--\\n-Greg Hennessy, University of Virginia\\n USPS Mail:     Astronomy Department, Charlottesville, VA 22903-2475 USA\\n Internet:      gsh7w@virginia.edu  \\n UUCP:\\t\\t...!uunet!virginia!gsh7w\\n'"
   ]
  },
  {
   "cell_type": "markdown",
   "metadata": {},
   "source": [
    "First we install the required Python packages from requirements.txt."
   ]
  },
  {
   "cell_type": "code",
   "execution_count": null,
   "metadata": {},
   "outputs": [],
   "source": [
    "!pip install -r requirements.txt"
   ]
  },
  {
   "cell_type": "markdown",
   "metadata": {},
   "source": [
    "### Import the necessary packages."
   ]
  },
  {
   "cell_type": "code",
   "execution_count": 2,
   "metadata": {},
   "outputs": [],
   "source": [
    "import numpy as np\n",
    "from sklearn.datasets import fetch_20newsgroups\n",
    "from sklearn.feature_extraction.text import CountVectorizer\n",
    "from sklearn.neural_network import MLPClassifier\n",
    "from sklearn.pipeline import Pipeline\n",
    "from skl2onnx.convert import convert_sklearn\n",
    "from skl2onnx.common.data_types import StringTensorType\n",
    "from onnxruntime import InferenceSession\n",
    "from onnxmltools.utils import save_model"
   ]
  },
  {
   "cell_type": "markdown",
   "metadata": {},
   "source": [
    "Fetch training and test set data using scikit's fetch_20newsgroups()."
   ]
  },
  {
   "cell_type": "code",
   "execution_count": 4,
   "metadata": {},
   "outputs": [],
   "source": [
    "# Add 2 categories from the above list below\n",
    "# cats = []\n",
    "training_data = fetch_20newsgroups(subset='train', categories=cats)\n",
    "test_data = fetch_20newsgroups(subset='test', categories=cats)"
   ]
  },
  {
   "cell_type": "markdown",
   "metadata": {},
   "source": [
    "Assign data and labels to separate X and y variables for both training and test set."
   ]
  },
  {
   "cell_type": "code",
   "execution_count": 5,
   "metadata": {},
   "outputs": [],
   "source": [
    "X_train, y_train = np.array(training_data.data), training_data.target\n",
    "X_test, y_test = np.array(test_data.data), test_data.target"
   ]
  },
  {
   "cell_type": "markdown",
   "metadata": {},
   "source": [
    "### Scikit Pipeline\n",
    "We create a scikit pipeline, which featurises the text using CountVectorizer() and then uses an MLPClassifier() to train the model."
   ]
  },
  {
   "cell_type": "code",
   "execution_count": 3,
   "metadata": {},
   "outputs": [],
   "source": [
    "# Create a Scikit Pipeline with CountVectorizer() and MLPClassifier() and assign it to model\n",
    "# Call fit() on model with training data and labels to train your model"
   ]
  },
  {
   "cell_type": "markdown",
   "metadata": {},
   "source": [
    "### Model accuracy\n",
    "Calculate the accuracy of our model on the test set."
   ]
  },
  {
   "cell_type": "code",
   "execution_count": 4,
   "metadata": {},
   "outputs": [],
   "source": [
    "# Call predict() on your trained model and test dataset.\n",
    "# Calculate accuracy by comparing with the actual test labels. "
   ]
  },
  {
   "cell_type": "markdown",
   "metadata": {},
   "source": [
    "### Conversion to ONNX\n",
    "Convert the scikit model into ONNX format using convert_sklearn(), then save the ONNX model."
   ]
  },
  {
   "cell_type": "code",
   "execution_count": 9,
   "metadata": {},
   "outputs": [],
   "source": [
    "model_onnx = convert_sklearn(model, 'newsgroup', [('input', StringTensorType([None]))])\n",
    "# save_model(model_onnx, '<model name>.onnx')"
   ]
  },
  {
   "cell_type": "markdown",
   "metadata": {},
   "source": [
    "Visualise the onnx model using Netron: https://lutzroeder.github.io/netron/"
   ]
  },
  {
   "cell_type": "markdown",
   "metadata": {},
   "source": [
    "### Load the onnx model\n",
    "For inferencing, we first load the model as shown below."
   ]
  },
  {
   "cell_type": "code",
   "execution_count": 10,
   "metadata": {},
   "outputs": [],
   "source": [
    "# sess = InferenceSession('<model name>.onnx')"
   ]
  },
  {
   "cell_type": "markdown",
   "metadata": {},
   "source": [
    "### Prediction using onnxruntime\n",
    "In order to run prediction on a test set, we call run() passing the test set like this:"
   ]
  },
  {
   "cell_type": "code",
   "execution_count": 11,
   "metadata": {},
   "outputs": [],
   "source": [
    "res = sess.run(None, input_feed={'input': X_test})"
   ]
  },
  {
   "cell_type": "markdown",
   "metadata": {},
   "source": [
    "The above function call returns two outputs: label(output 0) and class probability scores(output 1)."
   ]
  },
  {
   "cell_type": "markdown",
   "metadata": {},
   "source": [
    "## Comparing results of onnx and Scikit models\n",
    "Here, we compare the labels returned by onnxruntime with the labels predicted by scikit."
   ]
  },
  {
   "cell_type": "code",
   "execution_count": 11,
   "metadata": {},
   "outputs": [],
   "source": [
    "# Compare predicted labels for scikit and onnx model."
   ]
  },
  {
   "cell_type": "markdown",
   "metadata": {},
   "source": [
    "We can also match the predicted probability scores of the two models."
   ]
  },
  {
   "cell_type": "code",
   "execution_count": 12,
   "metadata": {},
   "outputs": [],
   "source": [
    "# Compare predicted class probability scores for scikit and onnx models."
   ]
  }
 ],
 "metadata": {
  "kernelspec": {
   "display_name": "Python [default]",
   "language": "python",
   "name": "python3"
  },
  "language_info": {
   "codemirror_mode": {
    "name": "ipython",
    "version": 3
   },
   "file_extension": ".py",
   "mimetype": "text/x-python",
   "name": "python",
   "nbconvert_exporter": "python",
   "pygments_lexer": "ipython3",
   "version": "3.6.5"
  }
 },
 "nbformat": 4,
 "nbformat_minor": 2
}
